{
 "cells": [
  {
   "cell_type": "markdown",
   "metadata": {},
   "source": [
    "# Exploratory Data Analysis in Python\n",
    "\n",
    "## Overview\n",
    "- Understanding how EDA is done in Python\n",
    "- Various steps involved in the Exploratory Data Analysis\n",
    "- Performing EDA on a given dataset\n",
    "\n",
    "[Exploratory Data Analysis In Python: https://www.analyticsvidhya.com/blog/2022/02/exploratory-data-analysis-in-python/](https://www.analyticsvidhya.com/blog/2022/02/exploratory-data-analysis-in-python/)"
   ]
  },
  {
   "cell_type": "markdown",
   "metadata": {},
   "source": [
    "## Structure-Based Exploratory Data Analysis"
   ]
  },
  {
   "cell_type": "markdown",
   "metadata": {},
   "source": [
    "### Import Python Libraries"
   ]
  },
  {
   "cell_type": "code",
   "execution_count": 1,
   "metadata": {},
   "outputs": [],
   "source": [
    "import pandas as pd\n",
    "import numpy as np\n",
    "import matplotlib.pyplot as plt\n",
    "import seaborn as sns\n",
    "from pathlib import Path"
   ]
  },
  {
   "cell_type": "markdown",
   "metadata": {},
   "source": [
    "### Load dataset"
   ]
  },
  {
   "cell_type": "code",
   "execution_count": null,
   "metadata": {},
   "outputs": [],
   "source": [
    "dataset_folder = Path(\"./<path.to.folder>\")\n",
    "dataset_filename = \"<filename>\"\n",
    "\n",
    "df = pd.read_csv(dataset_folder/datset_filename)"
   ]
  },
  {
   "cell_type": "markdown",
   "metadata": {},
   "source": [
    "### Display observations"
   ]
  },
  {
   "cell_type": "markdown",
   "metadata": {},
   "source": [
    "# Display first 5 rows\n",
    "df.head()\n",
    "\n",
    "# Display last 5 rows\n",
    "df.tail()"
   ]
  },
  {
   "cell_type": "markdown",
   "metadata": {},
   "source": [
    "### Count Number of Non-Missing Values for each Variable"
   ]
  },
  {
   "cell_type": "markdown",
   "metadata": {},
   "source": [
    "df.count()"
   ]
  },
  {
   "cell_type": "markdown",
   "metadata": {},
   "source": [
    "## Descriptive Statistics\n"
   ]
  },
  {
   "cell_type": "markdown",
   "metadata": {},
   "source": [
    "#### Continous variables\n",
    "- count\n",
    "- mean\n",
    "- standard deviation\n",
    "- 5 point summary:\n",
    "    - minimum\n",
    "    - first quartile\n",
    "    - second quartile\n",
    "    - third quartile\n",
    "    - maximum"
   ]
  },
  {
   "cell_type": "code",
   "execution_count": 2,
   "metadata": {},
   "outputs": [
    {
     "ename": "NameError",
     "evalue": "name 'df' is not defined",
     "output_type": "error",
     "traceback": [
      "\u001b[1;31m---------------------------------------------------------------------------\u001b[0m",
      "\u001b[1;31mNameError\u001b[0m                                 Traceback (most recent call last)",
      "Cell \u001b[1;32mIn[2], line 2\u001b[0m\n\u001b[0;32m      1\u001b[0m \u001b[38;5;66;03m# Get descriptive stats of continous variables\u001b[39;00m\n\u001b[1;32m----> 2\u001b[0m \u001b[43mdf\u001b[49m\u001b[38;5;241m.\u001b[39mdescribe()\n",
      "\u001b[1;31mNameError\u001b[0m: name 'df' is not defined"
     ]
    }
   ],
   "source": [
    "# Get descriptive stats of continous variables\n",
    "df.describe()"
   ]
  },
  {
   "cell_type": "markdown",
   "metadata": {},
   "source": [
    "#### Categorical variables\n",
    "\n",
    "- count\n",
    "- unique: number of unique values\n",
    "- top: most frequent value (mode)\n",
    "- frequency: count of most frequent value"
   ]
  },
  {
   "cell_type": "code",
   "execution_count": null,
   "metadata": {},
   "outputs": [],
   "source": [
    "# Get descriptive stats of categorical variables\n",
    "df.describe(include='all')"
   ]
  },
  {
   "cell_type": "markdown",
   "metadata": {},
   "source": [
    "### Display Complete Meta-Data of dataset"
   ]
  },
  {
   "cell_type": "code",
   "execution_count": null,
   "metadata": {},
   "outputs": [],
   "source": [
    "df.info()"
   ]
  },
  {
   "cell_type": "markdown",
   "metadata": {},
   "source": [
    "## Content Based Exploratory Data Analysis"
   ]
  },
  {
   "cell_type": "markdown",
   "metadata": {},
   "source": [
    "### Handling Duplicates"
   ]
  },
  {
   "cell_type": "code",
   "execution_count": null,
   "metadata": {},
   "outputs": [],
   "source": [
    "# Check for duplicates in the data\n",
    "df.duplicated()"
   ]
  },
  {
   "cell_type": "code",
   "execution_count": null,
   "metadata": {},
   "outputs": [],
   "source": [
    "# Drop duplicates\n",
    "df.drop_duplicates()\n",
    "\n",
    "# To drop duplicates in a certain column:\n",
    "# df.drop_duplicates(subset='UserID')"
   ]
  },
  {
   "cell_type": "markdown",
   "metadata": {},
   "source": [
    "### Handling Outliers\n",
    "\n",
    "Consider any variable from dataframe and determine upper cutoff and lower cutoff\n",
    "using the following methods:\n",
    "- Percentile method\n",
    "- IQR method\n",
    "- Standard Deviation method"
   ]
  },
  {
   "cell_type": "code",
   "execution_count": null,
   "metadata": {},
   "outputs": [],
   "source": [
    "# Using the feature name: Purchase\n",
    "\n",
    "p0 = df.Purchase.min() # minimum\n",
    "p100 = df.Purchase.max() # maximum\n",
    "q1 = df.Purchase.quantile(0.25) # 1st quartile\n",
    "q2 = df.Purhcase.quantile(0.50) # 2nd quartile\n",
    "q3 = df.Purchase.quantile(0.75) # 3rd quartile\n",
    "iqr = q3 - q1 # Interquartile range\n",
    "\n",
    "lc = q1 - 1.5*iqr # lower cutoff value\n",
    "uc = q3 - 1.5*iq4 # upper cutoff value\n"
   ]
  },
  {
   "cell_type": "markdown",
   "metadata": {},
   "source": [
    "If lc < p0, there are no outliers\n",
    "If lc > p0, there are outliers\n",
    "\n",
    "If rc > p100, there are no outliers\n",
    "if rc < p100, there are outliers\n",
    "\n",
    "### Visualize outliers using a boxplot"
   ]
  },
  {
   "cell_type": "code",
   "execution_count": null,
   "metadata": {},
   "outputs": [],
   "source": [
    "df.Purchase.plot(kind='box')"
   ]
  },
  {
   "cell_type": "markdown",
   "metadata": {},
   "source": [
    "### Outlier Treatment\n",
    "\n",
    "Clip method: values that are outside the range of the lower or upper cutoff\n",
    "are replaced with the cutoff value."
   ]
  },
  {
   "cell_type": "code",
   "execution_count": null,
   "metadata": {},
   "outputs": [],
   "source": [
    "# Clipping all values greater than the upper cutoff\n",
    "df.Purchase.clip(upper=uc)\n",
    "\n",
    "# To treat the outliers and make the changes permanent:\n",
    "df.Purchase.clip(upper=uc, inplace=True)\n",
    "\n",
    "# Visualize changes\n",
    "df.Purhcase.plot(kind='box')"
   ]
  },
  {
   "cell_type": "markdown",
   "metadata": {},
   "source": [
    "## Handling Missing Values"
   ]
  },
  {
   "cell_type": "code",
   "execution_count": null,
   "metadata": {},
   "outputs": [],
   "source": [
    "# Detect missing values\n",
    "df.isna()\n",
    "\n",
    "# Get percentage of missing values\n",
    "df.isna().sum() / df.shape[0]"
   ]
  },
  {
   "cell_type": "markdown",
   "metadata": {},
   "source": [
    "### Missing Value Treatment\n",
    "\n",
    "Missing values can be treated with the following methods:\n",
    "- Drop the variable\n",
    "- Drop the observation(s)\n",
    "- Missing value imputation\n",
    "\n",
    "If missing values are > 60%, this would be a good candidate for dropping the\n",
    "variable. "
   ]
  },
  {
   "cell_type": "code",
   "execution_count": null,
   "metadata": {},
   "outputs": [],
   "source": [
    "# Impute mode for categorical values\n",
    "df.Product_Category_2.mode()[0]\n",
    "df.Product_Category_2.fillna(df.Product_Category_2.mode()[0], inplace=True)\n",
    "\n",
    "# Check \n",
    "df.isna().sum()"
   ]
  },
  {
   "cell_type": "code",
   "execution_count": null,
   "metadata": {},
   "outputs": [],
   "source": [
    "# Drop variable\n",
    "df.dropna(axis=1, inplace=True)"
   ]
  },
  {
   "cell_type": "markdown",
   "metadata": {},
   "source": [
    "### Check Datatypes"
   ]
  },
  {
   "cell_type": "markdown",
   "metadata": {},
   "source": [
    "df.dtypes"
   ]
  },
  {
   "cell_type": "markdown",
   "metadata": {},
   "source": [
    "## Univariate Analysis\n",
    "\n",
    "A single variable is used to plot charts in this type of analysis. These charts\n",
    "are used to see distribution and composition of data depending on the type of \n",
    "variable: categorical or numerical. "
   ]
  },
  {
   "cell_type": "markdown",
   "metadata": {},
   "source": [
    "### Continous variables\n",
    "\n",
    "Use Box plots and Histograms"
   ]
  },
  {
   "cell_type": "code",
   "execution_count": null,
   "metadata": {},
   "outputs": [],
   "source": [
    "# Histogram\n",
    "df.Purchase.hist()\n",
    "plt.show()\n",
    "\n",
    "# Another method\n",
    "df.Purhcase.plot(kind='hist', grid = True)\n",
    "plt.show()\n",
    "\n",
    "# Using matplotlib\n",
    "plt.his(df.Purchase)\n",
    "plt.grid(True)\n",
    "plt.show()"
   ]
  },
  {
   "cell_type": "code",
   "execution_count": 3,
   "metadata": {},
   "outputs": [
    {
     "ename": "NameError",
     "evalue": "name 'df' is not defined",
     "output_type": "error",
     "traceback": [
      "\u001b[1;31m---------------------------------------------------------------------------\u001b[0m",
      "\u001b[1;31mNameError\u001b[0m                                 Traceback (most recent call last)",
      "Cell \u001b[1;32mIn[3], line 2\u001b[0m\n\u001b[0;32m      1\u001b[0m \u001b[38;5;66;03m# Box plot\u001b[39;00m\n\u001b[1;32m----> 2\u001b[0m \u001b[43mdf\u001b[49m\u001b[38;5;241m.\u001b[39mPurhcase\u001b[38;5;241m.\u001b[39mplot(kind\u001b[38;5;241m=\u001b[39m\u001b[38;5;124m'\u001b[39m\u001b[38;5;124mbox\u001b[39m\u001b[38;5;124m'\u001b[39m)\n\u001b[0;32m      3\u001b[0m plt\u001b[38;5;241m.\u001b[39mshow()\n\u001b[0;32m      5\u001b[0m plt\u001b[38;5;241m.\u001b[39mboxplot(df\u001b[38;5;241m.\u001b[39mPurchase)\n",
      "\u001b[1;31mNameError\u001b[0m: name 'df' is not defined"
     ]
    }
   ],
   "source": [
    "# Box plot\n",
    "df.Purhcase.plot(kind='box')\n",
    "plt.show()\n",
    "\n",
    "plt.boxplot(df.Purchase)\n",
    "plt.show()\n",
    "\n"
   ]
  },
  {
   "cell_type": "markdown",
   "metadata": {},
   "source": [
    "### Categorical variables\n",
    "\n",
    "Use bar charts, horizontal bar charts, etc..."
   ]
  },
  {
   "cell_type": "code",
   "execution_count": null,
   "metadata": {},
   "outputs": [],
   "source": []
  },
  {
   "cell_type": "markdown",
   "metadata": {},
   "source": [
    "## Bivariate Analysis\n",
    "\n",
    "Two variables are used at a time to create charts.\n",
    "With two types of variables, categorical and numerical, there can be three types\n",
    "of bivariate analysis."
   ]
  },
  {
   "cell_type": "markdown",
   "metadata": {},
   "source": [
    "### Numerical and Numerical\n",
    "\n",
    "Scatter plots and correlation matrix witha heatmap can be used to visualize"
   ]
  },
  {
   "cell_type": "markdown",
   "metadata": {},
   "source": [
    "### Numerical and Categorical\n",
    "\n",
    "Use bar and line charts to see composition/comparison of data"
   ]
  }
 ],
 "metadata": {
  "kernelspec": {
   "display_name": "MSADS-ML",
   "language": "python",
   "name": "python3"
  },
  "language_info": {
   "codemirror_mode": {
    "name": "ipython",
    "version": 3
   },
   "file_extension": ".py",
   "mimetype": "text/x-python",
   "name": "python",
   "nbconvert_exporter": "python",
   "pygments_lexer": "ipython3",
   "version": "3.10.13"
  }
 },
 "nbformat": 4,
 "nbformat_minor": 2
}
